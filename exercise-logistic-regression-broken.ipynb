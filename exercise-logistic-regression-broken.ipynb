{
 "cells": [
  {
   "cell_type": "markdown",
   "metadata": {
    "slideshow": {
     "slide_type": "-"
    }
   },
   "source": [
    "# ML-Fundamentals - Logistic Regression and Regularization"
   ]
  },
  {
   "cell_type": "markdown",
   "metadata": {
    "slideshow": {
     "slide_type": "-"
    }
   },
   "source": [
    "## Table of Contents\n",
    "* [Introduction](#Introduction)\n",
    "* [Requirements](#Requirements) \n",
    "  * [Knowledge](#Knowledge) \n",
    "  * [Modules](#Python-Modules)\n",
    "* [Exercises - Multivariate Linear Regression](#Exercises---Multivariate-Linear-Regression)\n",
    "  * [Pen & Paper Exercises](#Pen-&-Paper-Exercises)\n",
    "  * [Data Generation](#Data-Generation)\n",
    "  * [Logistic Function](#Logistic-Function)\n",
    "  * [Cross-Entropy](#Cross-Entropy)\n",
    "  * [Loss Function](#Loss-Function)\n",
    "  * [Cost Function](#Cost-Function)\n",
    "  * [Gradient Descent](#Gradient-Descent)\n",
    "  * [Training and Evaluation](#Training-and-Evaluation)\n",
    "      * [Plot Data and Decision Boundary](#Plot-Data-and-Decision-Boundary)\n",
    "      * [Accuracy](#Accuracy)\n",
    "  * [Regularization](#Regularization)\n",
    "* [Summary and Outlook](#Summary-and-Outlook)\n",
    "* [Literature](#Literature) \n",
    "* [Licenses](#Licenses)"
   ]
  },
  {
   "cell_type": "markdown",
   "metadata": {
    "slideshow": {
     "slide_type": "-"
    }
   },
   "source": [
    "## Introduction\n",
    "\n",
    "In this exercise you will implement the *logistic regression*. Opposed to the *linear regression*, the purpose of this model is not to predict a continuous value (e.g. the temperature tomorrow), but to predict a certain class: For example, whether it will rain tomorrow or not. During this exercise you will:\n",
    "\n",
    "1. Recap (and learn) the fundamentals of logistic regression: Costfunction, Gradient descent for logistic regression \n",
    "1. Implement the logistic function and plot it\n",
    "1. Implement the hypothesis using the logistic function\n",
    "1. Write a function to calculate the cross-entropy cost\n",
    "1. Implement the loss function using the hypothesis and cost\n",
    "1. Implement the gradient descent algorithm to train your model (optimizer) \n",
    "1. Visualize the decision boundary together with the data\n",
    "1. Calculate the accuracy of your model\n",
    "1. Extend your model with regularization\n",
    "1. Calculate the gradient for the loss function with cross-entropy cost (pen&paper)"
   ]
  },
  {
   "cell_type": "markdown",
   "metadata": {
    "slideshow": {
     "slide_type": "-"
    }
   },
   "source": [
    "## Requirements\n",
    "### Knowledge\n",
    "\n",
    "You should have a basic knowledge of:\n",
    "- Logistic regression\n",
    "- Cross-entropy loss\n",
    "- Gradient descent\n",
    "- numpy\n",
    "- matplotlib\n",
    "\n",
    "Suitable sources for acquiring this knowledge are:\n",
    "- [Logistic Regression Notebook](http://christianherta.de/lehre/dataScience/machineLearning/basics/logistic-regression.php) by Christian Herta and corresponding [lecture slides](http://christianherta.de/lehre/dataScience/machineLearning/logisticRegression.pdf) (German)\n",
    "- [Regularization Notebook](http://christianherta.de/lehre/dataScience/machineLearning/basics/regularization.php) by Christian Herta and corresponding [lecture slides](http://christianherta.de/lehre/dataScience/machineLearning/regularization.pdf) (German)\n",
    "- Chapter 5.1 of [Deep Learning](http://www.deeplearningbook.org/contents/ml.html) by Ian Goodfellow \n",
    "- Some parts of chapter 1 and 3 of [Pattern Recognition and Machine Learning](https://www.microsoft.com/en-us/research/people/cmbishop/#!prml-book) by Christopher M. Bishop\n",
    "- [numpy quickstart](https://docs.scipy.org/doc/numpy-1.15.1/user/quickstart.html)\n",
    "- [Matplotlib tutorials](https://matplotlib.org/tutorials/index.html)"
   ]
  },
  {
   "cell_type": "markdown",
   "metadata": {
    "slideshow": {
     "slide_type": "-"
    }
   },
   "source": [
    "### Python Modules\n",
    "\n",
    "By [deep.TEACHING](https://www.deep-teaching.org/) convention, all python modules needed to run the notebook are loaded centrally at the beginning. \n"
   ]
  },
  {
   "cell_type": "code",
   "execution_count": 1,
   "metadata": {
    "slideshow": {
     "slide_type": "-"
    }
   },
   "outputs": [],
   "source": [
    "# External Modules\n",
    "import numpy as np\n",
    "import matplotlib.pyplot as plt\n",
    "\n",
    "%matplotlib inline"
   ]
  },
  {
   "cell_type": "markdown",
   "metadata": {
    "slideshow": {
     "slide_type": "-"
    }
   },
   "source": [
    "## Exercise - Logistic Regression\n",
    "\n"
   ]
  },
  {
   "cell_type": "markdown",
   "metadata": {},
   "source": [
    "### Pen & Paper Exercises\n",
    "\n",
    "#### Task\n",
    "\n",
    "Why is \n",
    "\n",
    "$$\n",
    "\\text{arg}\\max_x f(x) = \\text{arg}\\min_x \\left[ - \\log f(x) \\right] \n",
    "$$"
   ]
  },
  {
   "cell_type": "markdown",
   "metadata": {},
   "source": [
    "#### Logistic model\n",
    "\n",
    "In logistic regression, the prediction of a learned model $h_\\Theta(\\vec x)$\n",
    "can be interpreted as the prediction that $\\vec x$ belongs to the positive class $1$:\n",
    "\n",
    "$$p(y=1\\mid \\vec x; \\Theta) = h_\\Theta(\\vec x)$$\n",
    "\n",
    "#### Task\n",
    "What is the probability of the negative class $p(y=0\\mid \\vec x; \\Theta)$ prediction (expressed with $h_\\Theta(\\vec x)$)?"
   ]
  },
  {
   "cell_type": "markdown",
   "metadata": {},
   "source": [
    "#### Loss\n",
    "\n",
    "\n",
    "The loss of an example $(\\vec x^{(i)}, y^{(i)})$ with target value $y^{(i)}=1$ is\n",
    "$$loss_{(\\vec x^{(i)}, 1)} (\\Theta) = - \\log p(y=1\\mid \\vec x; \\Theta)$$\n",
    "\n",
    "The loss of an example $(\\vec x^{(i)}, y^{(i)})$ with target value $y^{(i)}=0$ is\n",
    "$$loss_{(\\vec x^{(i)}, 0)} (\\Theta) = - \\log p(y=0\\mid \\vec x; \\Theta)$$\n",
    "\n",
    "So, $p(y=k\\mid \\vec x; \\Theta)$ is maximized for the target class $k$ \"by searching\n",
    "in the $\\Theta$-space\".  \n",
    "\n",
    "$p(y=k\\mid \\vec x; \\Theta)$ is called *likelihood* of $\\Theta$ (of one example $(\\vec x, y)$)\n",
    "if it is considered as a function of $\\Theta$. \n",
    "Note that the likelihood is a function of $\\Theta$.\n",
    "\n",
    "$\\mathcal L^{(i)}(\\Theta) = \\log p(y=y^{(i)}\\mid \\vec x^{(i)}; \\Theta)$ is the log-likelihood\n",
    "of $\\Theta$ for an example $i$.\n",
    "\n",
    "Why is $p(y=k\\mid \\vec x; \\Theta)$ not a probability with respect to $\\Theta$.\n",
    "Which property of a probability does not hold?"
   ]
  },
  {
   "cell_type": "markdown",
   "metadata": {},
   "source": [
    "#### i.i.d. and log-likelihood for all data\n",
    "\n",
    "Note that the training data in logistic regression should be \n",
    "**i.i.d.** (independent and identically distributed):\n",
    "\n",
    "An simple example of an i.i.d. data set is the toin coss of a (marked) coin.\n",
    "Assume that the probability of head (class $y=1$) is $0.4$, i.e. $p(y=1)=0.4$.     \n",
    "The probability of getting two heads in two throws is $0.4 \\cdot 0.4$:\n",
    "- Each throw has the same distribution (here: $p(y=1)=0.4$. Each throw of the same coin is **identically distributed**\n",
    "- The throws are **independent**. If we get a head on the first throw the probability of\n",
    "getting a head on the second throw does not change.\n",
    "\n",
    "So, the probability factorizes: $p(y^{(1)}=1, y^{(2)}=1)=p(y^{(1)}=1)p(y^{(2)}=1)$\n",
    "\n",
    "For our classification problem:\n",
    "\n",
    "$p(\\mathcal D_y \\mid \\mathcal D_x; \\Theta) = \\prod_i p(y=y^{(i)}\\mid \\vec x^{(i)}; \\Theta)$ \n",
    "\n",
    "with \n",
    "- $\\mathcal D_x= \\{x^{(1)}, x^{(2)}, \\dots , x^{(m)}\\}$\n",
    "- $\\mathcal D_y= \\{y^{(1)}, y^{(2)}, \\dots , y^{(m)}\\}$\n",
    "- $\\mathcal D$ is the combination of $\\mathcal D_x$ with $\\mathcal D_y$:\n",
    "$\\mathcal D= \\{ (\\vec x^{(1)},y^{(1)}), (\\vec x^{(2)},y^{(2)}), \\dots , (\\vec x^{(m)},y^{(m)})\\}$. \n",
    "\n",
    "#### Task \n",
    "For the whole data set the log-likelihood $\\mathcal L_\\mathcal D(\\Theta)$ of a parameter set $\\Theta$ is \n",
    "$\\log p(\\mathcal D_y \\mid \\mathcal D_x; \\Theta)$).     \n",
    "Note: The (log-)likelihood $\\mathcal L_\\mathcal D(\\Theta)$ is a function of the parameters $\\Theta$.\n",
    "Never say the (log-)likelihood of the data.\n",
    "\n",
    "1. What is $\\mathcal L_\\mathcal D(\\Theta) = \\log p(\\mathcal D_y \\mid \\mathcal D_x; \\Theta)$ expressed by the $p(y=y^{(i)}\\mid \\vec x^{(i)}; \\Theta)$?\n",
    "\n",
    "2. What is the relation of the log-likelihood $\\mathcal L^{(i)}(\\Theta)$ (for the individual examples $(\\vec x^{(i)}, y^{(i)})$) \n",
    "to the log-likelihood $\\mathcal L_\\mathcal D(\\Theta)$ for the whole data set.\n",
    "\n",
    " \n",
    "In logistic regression the cost function is the negative log-likelihood divided by the number of data examples $m$:\n",
    "\n",
    "$$J (\\Theta) = - \\frac{\\mathcal L_\\mathcal D(\\Theta)}{m}$$\n",
    "\n",
    "2. The aveage log-liklihood \n",
    "\n",
    "2. What is the relation of the (log-)likelihood with the cost function for logistic-regression? \n",
    "3. Derive the cost function of logistic-regression by using your result of 2."
   ]
  },
  {
   "cell_type": "markdown",
   "metadata": {
    "slideshow": {
     "slide_type": "-"
    }
   },
   "source": [
    "#### Derivative of the logistic function\n",
    "\n",
    "The sigmoid activation function is defined as $\\sigma (z) = \\frac{1}{1+\\exp(-z)}$ \n",
    "\n",
    "**Task:**\n",
    "\n",
    "Show that:\n",
    "$$\n",
    "\\frac{d \\sigma(z)}{d z} = \\sigma(z)(1-\\sigma(z))\n",
    "$$"
   ]
  },
  {
   "cell_type": "markdown",
   "metadata": {},
   "source": [
    "#### Task:\n",
    "\n",
    "Now show that:\n",
    "$$\n",
    "\\frac{\\partial \\sigma(z)}{\\partial \\theta_j} = \\sigma(z)(1-\\sigma(z)) \\cdot x_j\n",
    "$$\n",
    "\n",
    "\n",
    "with \n",
    "- $z=\\vec x'^T \\vec \\theta$\n",
    "\n",
    "and\n",
    "- $\\vec \\theta = (\\theta_0, \\theta_1, \\dots, \\theta_n)^T $\n",
    "- $\\vec x' = (x_0, x_1, \\dots, x_n)^T $\n",
    "\n",
    "\n",
    "Hint: Use the *chain rule of calculus*."
   ]
  },
  {
   "cell_type": "markdown",
   "metadata": {
    "slideshow": {
     "slide_type": "-"
    }
   },
   "source": [
    "**Task:**\n",
    "\n",
    "Show from\n",
    "$$\n",
    "    \\frac{\\partial}{\\partial \\theta_j}  J(\\theta)  =  \n",
    "    \\frac{\\partial}{\\partial \\theta_j}  \\left( - \\frac{1}{m}  \\sum_{i=1}^{m} \n",
    "    \\left[  y^{(i)} \\log h_\\theta({\\vec x}^{(i)})+\n",
    "      (1 - y^{(i)}) \\log \\left( 1- h_\\theta({\\vec x}^{(i)})\\right) \\right] \\right)\n",
    "$$  \n",
    "that\n",
    "$$\n",
    "\\frac{\\partial}{\\partial \\theta_j}  J(\\theta)  =   \\frac{1}{m}\n",
    "     \\sum_{i=1}^{m} \\left( h_\\theta({\\vec x}^{(i)})- y^{(i)}\\right) x_j^{(i)}\n",
    "$$\n",
    "\n",
    "with the hypothesis $h_\\theta(\\vec x^{(i)}) = \\sigma(\\vec x'^T \\vec \\theta)$\n",
    "So, with our classification cost function (from the max-likelihood principle) the \n",
    "partial derivatives (components the gradient) has a simple form.\n",
    "\n",
    "**Hint:**\n",
    "\n",
    "1. Make use of your knowledge, that:\n",
    "\n",
    "$$\n",
    "\\frac{\\partial h_\\theta(\\vec x^{(i)})}{\\partial \\theta_j} = h_\\theta(\\vec x^{(i)})(1-h_\\theta(\\vec x^{(i)})) \\cdot x_j\n",
    "$$\n",
    "2. and note that the chain rule for the derivative of the log is:\n",
    "\n",
    "$$\n",
    "\\frac{\\partial \\log(f(a))}{\\partial a} = \\frac{\\partial \\log(f(a))}{\\partial f} \\frac{\\partial f(a)}{\\partial a} =\n",
    "\\frac{1}{f(a)} \\frac{\\partial f(a)}{\\partial a}\n",
    "$$"
   ]
  },
  {
   "cell_type": "markdown",
   "metadata": {},
   "source": [
    "## Programming Exercises\n",
    "\n",
    "For convenience and visualization, we will only use two features in this notebook, so we are still able to plot them together with the target class. But your implementation should also be capable of handling more (except the plots). "
   ]
  },
  {
   "cell_type": "markdown",
   "metadata": {},
   "source": [
    "### Data Generation\n",
    "\n",
    "First we will create some artificial data. For each class, we will generate the features with bivariate (2D) normal distribution;"
   ]
  },
  {
   "cell_type": "code",
   "execution_count": 2,
   "metadata": {
    "scrolled": true
   },
   "outputs": [],
   "source": [
    "# class 0:\n",
    "# covariance matrix and mean\n",
    "cov0 = np.array([[5,-4],[-4,4]])\n",
    "mean0 = np.array([2.,3])\n",
    "# number of data points\n",
    "m0 = 1000\n",
    "\n",
    "# class 1\n",
    "# covariance matrix\n",
    "cov1 = np.array([[5,-3],[-3,3]])\n",
    "mean1 = np.array([1.,1])\n",
    "# number of data points\n",
    "m1 = 1000\n",
    "\n",
    "# generate m gaussian distributed data points with\n",
    "# mean and cov.\n",
    "r0 = np.random.multivariate_normal(mean0, cov0, m0)\n",
    "r1 = np.random.multivariate_normal(mean1, cov1, m1)"
   ]
  },
  {
   "cell_type": "code",
   "execution_count": 3,
   "metadata": {
    "scrolled": true
   },
   "outputs": [
    {
     "data": {
      "image/png": "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\n",
      "text/plain": [
       "<Figure size 432x288 with 1 Axes>"
      ]
     },
     "metadata": {
      "needs_background": "light"
     },
     "output_type": "display_data"
    }
   ],
   "source": [
    "plt.scatter(r0[...,0], r0[...,1], c='b', marker='*', label=\"class 0\")\n",
    "plt.scatter(r1[...,0], r1[...,1], c='r', marker='.', label=\"class 1\")\n",
    "plt.xlabel(\"x0\")\n",
    "plt.ylabel(\"x1\")\n",
    "plt.legend()\n",
    "plt.show()\n",
    "\n",
    "X = np.concatenate((r0,r1))\n",
    "y = np.zeros(len(r0)+len(r1))\n",
    "y[:len(r0),] = 1"
   ]
  },
  {
   "cell_type": "markdown",
   "metadata": {},
   "source": [
    "### Logistic Function\n",
    "\n",
    "For the logistic regression, we want the output of the hypothesis to be in the interval $]0, 1[$. This is done using the *logistic function* $\\sigma(.)$. The logistic function is also called *sigmoid function* in machine learning:\n",
    "\n",
    "**Task:**\n",
    "\n",
    "Implement the _logistic function_ and plot it in the interval of $[-10,10]$."
   ]
  },
  {
   "cell_type": "code",
   "execution_count": 4,
   "metadata": {},
   "outputs": [],
   "source": [
    "def logistic_function(x):\n",
    "    \"\"\" Applies the logistic function to x, element-wise. \"\"\"\n",
    "    raise NotImplementedError(\"You should implement this function\")\n",
    "\n",
    "### Insert code to plot the logistic function below\n"
   ]
  },
  {
   "cell_type": "markdown",
   "metadata": {},
   "source": [
    "### Logistic Hypothesis\n",
    "\n",
    "The hypothesis in logistic regression is defined by:\n",
    "\n",
    "$$\n",
    "h_\\Theta(\\vec x) = \\sigma(\\vec x'^T \\cdot \\vec \\theta)\n",
    "$$\n",
    "\n",
    "with:\n",
    "\n",
    "$$\n",
    "\\vec x^T = \\begin{pmatrix} \n",
    "x_1 & x_2 & \\ldots & x_n \\\\\n",
    "\\end{pmatrix}\n",
    "\\text{   and   }\n",
    "\\vec x'^T = \\begin{pmatrix} \n",
    "x_0=1 & x_1 & x_2 & \\ldots & x_n \\\\\n",
    "\\end{pmatrix}\n",
    "$$\n",
    "\n",
    "or for the whole data set $X$ and $X'$\n",
    "\n",
    "$$\n",
    "X = \\begin{pmatrix} \n",
    "x_1^{(1)} & \\ldots & x_n^{(1)} \\\\\n",
    "x_1^{(2)} & \\ldots & x_n^{(2)} \\\\\n",
    "\\vdots &\\vdots &\\vdots \\\\\n",
    "x_1^{(m)} & \\ldots & x_n^{(m)} \\\\\n",
    "\\end{pmatrix}\n",
    "\\text{   and   }\n",
    "X' = \\begin{pmatrix} \n",
    "1 & x_1^{(1)} & \\ldots & x_n^{(1)} \\\\\n",
    "1 & x_1^{(2)} & \\ldots & x_n^{(2)} \\\\\n",
    "\\vdots &\\vdots &\\vdots &\\vdots \\\\\n",
    "1 & x_1^{(m)} & \\ldots & x_n^{(m)} \\\\\n",
    "\\end{pmatrix}\n",
    "$$\n",
    "\n",
    "\n",
    " - $n$ is the number of features\n",
    " - $m$ is the number of training data (examples)\n",
    " \n",
    " \n",
    "**Task:**\n",
    "\n",
    "Implement the logistic hypothesis using your implementation of the logistic function. `logistic_hypothesis` should return a function which accepts the training data $X$. Example usage:\n",
    "\n",
    "`>> theta = np.array([1.1, 2.0, -.9])`\n",
    "\n",
    "`>> h = logistic_hypothesis(theta) `\n",
    "\n",
    "`>> print(h(X))`\n",
    "\n",
    "**Note:** The training data was sampled with random noise, so the actual values of your h(X) may differ.\n",
    "\n",
    "`array([0.03587382, 0.0299963 , 0.97389774, ...,`\n",
    "\n",
    "**Hint:**\n",
    "\n",
    "You may of course also implement a helper function for transforming $X$ into $X'$ and use it inside the `lamda` function of `logistic_hypothesis`."
   ]
  },
  {
   "cell_type": "code",
   "execution_count": 6,
   "metadata": {},
   "outputs": [],
   "source": [
    "def logistic_hypothesis(theta):\n",
    "    ''' Combines given list argument in a logistic equation and returns it as a function\n",
    "    \n",
    "    Args:\n",
    "        thetas: list of coefficients\n",
    "        \n",
    "    Returns:\n",
    "        lambda that models a logistc function based on thetas and x\n",
    "    '''\n",
    "    raise NotImplementedError(\"You should implement this function\")\n",
    "\n",
    "    \n",
    "### Uncomment to test your implementation\n",
    "#theta = np.array([1.,2.,3.])\n",
    "#h = logistic_hypothesis(theta)\n",
    "#print(h(X))"
   ]
  },
  {
   "cell_type": "markdown",
   "metadata": {},
   "source": [
    "### Cross-entropy\n",
    "\n",
    "The cross-entropy loss for a data point $({\\vec x}^{(i)}, y^{(i)})$ is defined by:\n",
    "\n",
    "\\begin{equation}\n",
    "    \\text{loss}_{({\\vec x}^{(i)}, y^{(i)})}(\\vec \\theta) = -y^{(i)} \\cdot log(h_{\\Theta} ({\\vec x}^{(i)})) - (1-y^{(i)}) \\cdot log(1-h_\\Theta({\\vec x}^{(i)}))\n",
    "\\end{equation}\n",
    "\n",
    "\n",
    "with \n",
    "- the target class $y^{(i)} \\in \\{ 0, 1\\}$ of the $i$-th data point \n",
    "- the parameters $\\Theta$ packed in the vector $\\vec \\theta$.\n",
    "- $h_{\\Theta}({\\vec x}^{(i)})$ the predition for the feature vector of the $i$-th data point $\\vec x^{(i)}$ with the parameters $\\Theta$ (resp. $\\vec \\theta$)\n",
    "\n",
    "\n",
    "**Task:**\n",
    "\n",
    "Implement the cross-entropy cost. This is the sum of the losses of all data $(X, \\vec y)$.\n",
    "\n",
    "Your python function should return a function, which accepts the vector $\\vec \\theta$.\n",
    "This reflects the fact that $\\text{loss}(\\vec \\theta)$ is a function of the parameter (vector).\n",
    "\n",
    "The returned function should return the cost for each feature vector $\\vec x^{(i)}$ and target $y^{(i)}$. The length of the returned array of costs therefore has to be the same length as $m$ (number of data examples).    \n",
    "Example usage:\n",
    "\n",
    "`>> J = cross_entropy_loss(logistic_hypothesis, X, y)`\n",
    "\n",
    "`>> print(J(theta))`\n",
    "\n",
    "**Note:** The training data was sampled with random noise, so the actual values of your h(X) may differ.\n",
    "\n",
    "\n",
    "`array([ 7.3,  9.5, ....`"
   ]
  },
  {
   "cell_type": "code",
   "execution_count": 8,
   "metadata": {},
   "outputs": [],
   "source": [
    "def cross_entropy_costs(h, X, y):\n",
    "    ''' Implements cross-entropy as a function costs(theta) on given traning data \n",
    "    \n",
    "    Args:\n",
    "        h: the hypothesis as function\n",
    "        x: features as 2D array with shape (m_examples, n_features)  \n",
    "        y: ground truth labels for given features with shape (m_examples)\n",
    "        \n",
    "    Returns:\n",
    "        lambda costs(theta) that models the cross-entropy for each x^i\n",
    "    '''\n",
    "    raise NotImplementedError(\"You should implement this function\")\n",
    "\n",
    "### Uncomment to test your implementation\n",
    "#theta = np.array([1.,2.,3.])\n",
    "#costs = cross_entropy_costs(logistic_hypothesis, X, y)\n",
    "#print(costs(theta))"
   ]
  },
  {
   "cell_type": "markdown",
   "metadata": {},
   "source": [
    "### Loss Function\n",
    "\n",
    "\\begin{equation}\n",
    "    J_{\\mathcal D}(\\vec \\theta)=\\frac{1}{m}\\sum_{i=1}^{m}\\left(\\text{loss}_{({\\vec x}^{(i)}, y^{(i)})}(\\Theta)\\right)\n",
    "\\end{equation}\n",
    "\n",
    "- with the training data $\\mathcal D = \\{ (\\vec x^{(1)}, y^{(1)}), \\dots,  (\\vec x^{(m)}, y^{(m)}) \\}$ \n",
    "\n",
    "**Task:**\n",
    "\n",
    "Now implement the loss function $J$, which calculates the mean costs for the whole training data $X$. Your python function should return a function, which accepts the vector $\\vec \\theta$.\n",
    "\n",
    "**Note:** You can ignore the parameter `lambda_reg` for now, it is a hyperparameter for regularization. In a later exercise, you may revisit your implementation and implement regularization if you wish."
   ]
  },
  {
   "cell_type": "code",
   "execution_count": 10,
   "metadata": {},
   "outputs": [],
   "source": [
    "\n",
    "def mean_cross_entropy_costs(X, y, hypothesis, cost_func, lambda_reg=0.1):\n",
    "    ''' Implements mean cross-entropy as a function J(theta) on given traning data \n",
    "    \n",
    "    Args:\n",
    "        X: features as 2D array with shape (m_examples, n_features)  \n",
    "        y: ground truth labels for given features with shape (m_examples)\n",
    "        hypothesis: the hypothesis as function\n",
    "        cost_func: cost function\n",
    "        \n",
    "    Returns:\n",
    "        lambda J(theta) that models the mean cross-entropy\n",
    "    '''\n",
    "    raise NotImplementedError(\"You should implement this\")\n",
    "    \n",
    "### Uncomment to test your implementation\n",
    "#theta = np.array([1.,2.,3.])\n",
    "#J = mean_cross_entropy_costs(X,y, logistic_hypothesis, cross_entropy_costs, 0.1)\n",
    "#print(J(theta))"
   ]
  },
  {
   "cell_type": "markdown",
   "metadata": {
    "slideshow": {
     "slide_type": "slide"
    }
   },
   "source": [
    "###  Gradient Descent\n",
    "\n",
    "A short recap, the gradient descent algorithm is a first-order iterative optimization for finding a minimum of a function. From the current position in a (cost) function, the algorithm steps proportional to the negative of the gradient and repeats this until it reaches a local or global minimum and determines.\n",
    "Stepping proportional means that it does not go entirely in the direction of the negative gradient, but scaled by a fixed value $\\alpha$ also called the learning rate. Implementing the following formalized update rule is the core of the optimization process:\n",
    "\n",
    "\\begin{equation}\n",
    "    \\vec \\theta_{new} \\leftarrow \\vec \\theta_{{old}} - \\alpha  \\vec \\nabla_\\Theta J(\\vec \\theta_{old})\n",
    "\\end{equation}\n",
    "\n",
    "**Task:**\n",
    "\n",
    "Implement the function to update all $\\theta$ values (in a vectorized way).\n",
    "\n",
    "**Note:** You can ignore the parameter `lambda_reg` for now, it is a hyperparameter for regularization. In a later exercise, you may revisit your implementation and implement regularization."
   ]
  },
  {
   "cell_type": "code",
   "execution_count": 12,
   "metadata": {},
   "outputs": [],
   "source": [
    "def compute_new_theta(X, y, theta, learning_rate, hypothesis, lambda_reg=0.1):\n",
    "    ''' Updates learnable parameters theta \n",
    "    \n",
    "    The update is done by calculating the partial derivities of \n",
    "    the cost function including the linear hypothesis. The \n",
    "    gradients scaled by a scalar are subtracted from the given \n",
    "    theta values.\n",
    "    \n",
    "    Args:\n",
    "        X: 2D numpy array of x values\n",
    "        y: array of y values corresponding to x\n",
    "        theta: current theta values\n",
    "        learning_rate: value to scale the negative gradient  \n",
    "        hypothesis: the hypothesis as function\n",
    "        \n",
    "        \n",
    "    Returns:\n",
    "        theta: Updated theta_0\n",
    "    '''\n",
    "    raise NotImplementedError(\"You should implement this\")\n",
    "\n",
    "### Uncomment to test your implementation\n",
    "#theta = np.array([1.,2.,3.])\n",
    "#theta = compute_new_theta(X, y, theta, .1, logistic_hypothesis, .1)\n",
    "#print(theta)"
   ]
  },
  {
   "cell_type": "markdown",
   "metadata": {
    "slideshow": {
     "slide_type": "-"
    }
   },
   "source": [
    "Using the `compute_new_theta` method, you can now implement the gradient descent algorithm. Iterate over the update rule to find the values for $\\theta$ that minimize our cost function $J_D(\\theta)$. This process is often called training of a machine learning model. \n",
    "\n",
    "**Task:**\n",
    "- Implement the function for the gradient descent.\n",
    "- Create a history of all theta and cost values and return them."
   ]
  },
  {
   "cell_type": "code",
   "execution_count": 14,
   "metadata": {},
   "outputs": [],
   "source": [
    "def gradient_descent(X, y, theta, learning_rate, num_iters, lambda_reg=0.1):\n",
    "    ''' Minimize theta values of a logistic model based on cross-entropy cost function\n",
    "    \n",
    "    Args:\n",
    "        X: 2D numpy array of x values\n",
    "        y: array of y values corresponding to x\n",
    "        theta: current theta values\n",
    "        learning_rate: value to scale the negative gradient  \n",
    "        num_iters: number of iterations updating thetas\n",
    "        lambda_reg: regularization strength\n",
    "        cost_function: python function for computing the cost\n",
    "        \n",
    "    Returns:\n",
    "        history_cost: cost after each iteration\n",
    "        history_theta: Updated theta values after each iteration\n",
    "    '''\n",
    "    raise NotImplementedError(\"You should implement this\")\n"
   ]
  },
  {
   "cell_type": "markdown",
   "metadata": {},
   "source": [
    "### Training and Evaluation\n",
    "\n",
    "**Task:**\n",
    "\n",
    "Choose an appropriate learning rate, number of iterations and initial theta values and start the training"
   ]
  },
  {
   "cell_type": "code",
   "execution_count": 16,
   "metadata": {},
   "outputs": [
    {
     "name": "stderr",
     "output_type": "stream",
     "text": [
      "<ipython-input-5-1a8b0be84971>:6: RuntimeWarning: overflow encountered in exp\n",
      "  return 1. / (1. + np.exp(-x))\n",
      "<ipython-input-9-1a7b7be352f6>:14: RuntimeWarning: divide by zero encountered in log\n",
      "  return lambda theta: -y * np.log(h(theta)(X)) - (1-y) * np.log(1. - h(theta)(X))\n",
      "<ipython-input-9-1a7b7be352f6>:14: RuntimeWarning: invalid value encountered in multiply\n",
      "  return lambda theta: -y * np.log(h(theta)(X)) - (1-y) * np.log(1. - h(theta)(X))\n"
     ]
    }
   ],
   "source": [
    "# TODO: Assign sensible values\n",
    "alpha = 42\n",
    "theta = np.array([42, -100, 10e5])\n",
    "num_iters = 1234\n",
    "history_cost, history_theta = gradient_descent(X, y, theta, alpha, num_iters)"
   ]
  },
  {
   "cell_type": "markdown",
   "metadata": {},
   "source": [
    "Now that the training has finished we can visualize our results.\n",
    "\n",
    "**Task:**\n",
    "\n",
    "Plot the costs over the iterations. Your plot should look similar to this one:\n",
    "\n",
    "<img src=\"https://gitlab.com/deep.TEACHING/educational-materials/raw/dev/media/klaus/exercise-multivariate-linear-regression-costs.png\" width=\"512\" alt=\"internet connection needed\">"
   ]
  },
  {
   "cell_type": "code",
   "execution_count": 18,
   "metadata": {
    "slideshow": {
     "slide_type": "-"
    }
   },
   "outputs": [],
   "source": [
    "def plot_progress(costs):\n",
    "    \"\"\" Plots the costs over the iterations\n",
    "    \n",
    "    Args:\n",
    "        costs: history of costs\n",
    "    \"\"\"\n",
    "    raise NotImplementedError(\"You should implement this!\")"
   ]
  },
  {
   "cell_type": "code",
   "execution_count": 20,
   "metadata": {},
   "outputs": [
    {
     "name": "stdout",
     "output_type": "stream",
     "text": [
      "costs before the training:\t  3.1115221519605964\n",
      "costs after the training:\t  0.2988690896741621\n"
     ]
    },
    {
     "data": {
      "image/png": "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\n",
      "text/plain": [
       "<Figure size 432x288 with 1 Axes>"
      ]
     },
     "metadata": {
      "needs_background": "light"
     },
     "output_type": "display_data"
    }
   ],
   "source": [
    "plot_progress(history_cost)\n",
    "print(\"costs before the training:\\t \", history_cost[0])\n",
    "print(\"costs after the training:\\t \", history_cost[-1])"
   ]
  },
  {
   "cell_type": "markdown",
   "metadata": {},
   "source": [
    "#### Plot Data and Decision Boundary \n",
    "\n",
    "**Task:**\n",
    "\n",
    "Now plot the decision boundary (a straight line in this case) together with the data.         "
   ]
  },
  {
   "cell_type": "code",
   "execution_count": 21,
   "metadata": {
    "slideshow": {
     "slide_type": "-"
    }
   },
   "outputs": [
    {
     "data": {
      "text/plain": [
       "array([-3.53828301,  0.8953095 ,  1.18698691])"
      ]
     },
     "execution_count": 21,
     "metadata": {},
     "output_type": "execute_result"
    }
   ],
   "source": [
    "# Insert your code to plot below\n",
    "theta_hist[-1]"
   ]
  },
  {
   "cell_type": "markdown",
   "metadata": {},
   "source": [
    "#### Accuracy\n",
    "\n",
    "The logistic hypothesis outputs a value in the interval $]0,1[$. We want to map this value to one specific class i.e. $0$ or $1$, so we apply a threshold known as the decision boundary: If the predicted value is < 0.5, the class is 0, otherwise it is 1.\n",
    "\n",
    "**Task:**\n",
    "\n",
    "1. Calculate the accuracy of your final classifier. The accuracy is the proportion of the correctly classified data.\n",
    "2. Why will the accuracy never reach 100% using this model and this data set?"
   ]
  },
  {
   "cell_type": "code",
   "execution_count": 23,
   "metadata": {
    "slideshow": {
     "slide_type": "-"
    }
   },
   "outputs": [],
   "source": [
    "# Insert you code below\n"
   ]
  },
  {
   "cell_type": "markdown",
   "metadata": {},
   "source": [
    "### Regularization\n",
    "\n",
    "**Task:**\n",
    "    \n",
    "Extend your implementation with a regularization term $\\lambda$ by adding it as argument to the functions `mean_cross_entropy_costs`, `compute_new_theta` and `gradient_descent`.\n"
   ]
  },
  {
   "cell_type": "markdown",
   "metadata": {
    "slideshow": {
     "slide_type": "-"
    }
   },
   "source": [
    "## Summary and Outlook\n",
    "\n",
    "During this exercise you learned about logistic regression and used it to perform binary classification on multidimensional data. You should be able to answer the following questions:\n",
    "* How can you interpret the output of the logistic function?\n",
    "* For which type of problem do you use linear regression and for which type of problem do you use logistic regression?"
   ]
  },
  {
   "cell_type": "markdown",
   "metadata": {
    "slideshow": {
     "slide_type": "-"
    }
   },
   "source": [
    "## Licenses\n",
    "\n",
    "### Notebook License (CC-BY-SA 4.0)\n",
    "\n",
    "*The following license applies to the complete notebook, including code cells. It does however not apply to any referenced external media (e.g., images).*\n",
    "\n",
    "Exercise: Logistic Regression and Regularization <br/>\n",
    "by Christian Herta, Klaus Strohmenger <br/>\n",
    "is licensed under a [Creative Commons Attribution-ShareAlike 4.0 International License](http://creativecommons.org/licenses/by-sa/4.0/).<br/>\n",
    "Based on a work at https://gitlab.com/deep.TEACHING.\n",
    "\n",
    "\n",
    "### Code License (MIT)\n",
    "\n",
    "*The following license only applies to code cells of the notebook.*\n",
    "\n",
    "Copyright 2018 Christian Herta, Klaus Strohmenger\n",
    "\n",
    "Permission is hereby granted, free of charge, to any person obtaining a copy of this software and associated documentation files (the \"Software\"), to deal in the Software without restriction, including without limitation the rights to use, copy, modify, merge, publish, distribute, sublicense, and/or sell copies of the Software, and to permit persons to whom the Software is furnished to do so, subject to the following conditions:\n",
    "\n",
    "The above copyright notice and this permission notice shall be included in all copies or substantial portions of the Software.\n",
    "\n",
    "THE SOFTWARE IS PROVIDED \"AS IS\", WITHOUT WARRANTY OF ANY KIND, EXPRESS OR IMPLIED, INCLUDING BUT NOT LIMITED TO THE WARRANTIES OF MERCHANTABILITY, FITNESS FOR A PARTICULAR PURPOSE AND NONINFRINGEMENT. IN NO EVENT SHALL THE AUTHORS OR COPYRIGHT HOLDERS BE LIABLE FOR ANY CLAIM, DAMAGES OR OTHER LIABILITY, WHETHER IN AN ACTION OF CONTRACT, TORT OR OTHERWISE, ARISING FROM, OUT OF OR IN CONNECTION WITH THE SOFTWARE OR THE USE OR OTHER DEALINGS IN THE SOFTWARE."
   ]
  },
  {
   "cell_type": "code",
   "execution_count": null,
   "metadata": {},
   "outputs": [],
   "source": []
  },
  {
   "cell_type": "code",
   "execution_count": null,
   "metadata": {},
   "outputs": [],
   "source": []
  },
  {
   "cell_type": "code",
   "execution_count": null,
   "metadata": {},
   "outputs": [],
   "source": []
  }
 ],
 "metadata": {
  "celltoolbar": "Slideshow",
  "kernelspec": {
   "display_name": "Python 3",
   "language": "python",
   "name": "python3"
  },
  "language_info": {
   "codemirror_mode": {
    "name": "ipython",
    "version": 3
   },
   "file_extension": ".py",
   "mimetype": "text/x-python",
   "name": "python",
   "nbconvert_exporter": "python",
   "pygments_lexer": "ipython3",
<<<<<<< HEAD
   "version": "3.8.3"
=======
   "version": "3.8.0"
>>>>>>> 837f6f192879eb8fbd4c29ae69f1f154302fbd69
  }
 },
 "nbformat": 4,
 "nbformat_minor": 2
}
